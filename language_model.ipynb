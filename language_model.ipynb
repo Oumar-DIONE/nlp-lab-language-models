{
 "cells": [
  {
   "cell_type": "markdown",
   "id": "e30626a2",
   "metadata": {},
   "source": [
    "# NLP Lab : Modèles de langue\n",
    "\n",
    "Dans ce tp, nous allons constuire les briques principales du modèle GPT2 et entrainer un petit modèle sur des poèmes de Victor Hugo. \n",
    "\n",
    "Les questions sont posées dans ce notebook, puis pour executer l'entrainement, il faudra modifier le ficher `gpt_single_head.py` aussi disponible dans le reposository git.\n",
    "\n",
    "\n",
    "## Données\n",
    "\n",
    "Les données d'entrainement sont un recueil de poèmes de Victor Hugo issu du site [gutenberg.org](https://www.gutenberg.org/). Elles sont disponibles dans le répertoire `data`.\n",
    "\n",
    "Afin de réduire la complexité du modèle, nous allons modéliser le texte au niveau caractère. Les modèles de language modélisent généralement des séquences de sous-mots en utilisant des [tokenizers](https://huggingface.co/docs/transformers/tokenizer_summary) (BPE, SentencePiece, WordPiece)\n",
    "\n",
    "Questions :\n",
    ">* En utilisant [collections.Counter](https://docs.python.org/3/library/collections.html#collections.Counter), afficher le nombre de caractères différents dans le texte et la fréquence de chaque caractère."
   ]
  },
  {
   "cell_type": "code",
   "execution_count": 21,
   "id": "687844ae",
   "metadata": {},
   "outputs": [],
   "source": [
    "working_directory=\"/home/onyxia/work/nlp-lab-language-models\""
   ]
  },
  {
   "cell_type": "code",
   "execution_count": 2,
   "id": "0bc80943",
   "metadata": {},
   "outputs": [],
   "source": [
    "import numpy as np"
   ]
  },
  {
   "cell_type": "code",
   "execution_count": 3,
   "id": "b4d4ab91",
   "metadata": {},
   "outputs": [
    {
     "name": "stdout",
     "output_type": "stream",
     "text": [
      "Number of characters in the file: 285222\n",
      "Number of character in counter: 285222\n",
      "101 different characters\n",
      "Counter({' ': 49127, 'e': 30253, 's': 17987, 'u': 14254, 'r': 14223, 't': 14071, 'a': 14048, 'n': 13725, 'i': 12828, 'o': 12653, 'l': 11638, '\\n': 8102, 'm': 6495, 'd': 6375, ',': 6077, 'c': 5074, 'p': 4206, \"'\": 3820, 'v': 3492, 'é': 2943, 'b': 2783, 'f': 2772, 'h': 2221, 'q': 1956, 'g': 1790, '.': 1420, 'x': 1154, 'L': 1147, '!': 1121, 'E': 1074, ';': 1043, '-': 1020, 'j': 890, 'D': 764, 'è': 725, 'à': 706, 'y': 660, 'I': 627, 'ê': 605, 'C': 593, 'S': 545, 'A': 530, 'Q': 503, 'z': 482, 'J': 471, 'O': 450, 'T': 441, 'P': 435, '?': 388, 'V': 383, 'â': 381, 'N': 362, 'M': 344, 'ù': 298, ':': 294, 'R': 240, 'î': 214, 'U': 208, 'ô': 159, 'X': 150, '1': 146, 'H': 116, 'F': 114, '5': 111, '8': 93, 'B': 78, '«': 74, 'É': 70, '»': 69, 'G': 67, '4': 64, 'û': 62, '3': 47, 'ç': 34, 'À': 33, 'ë': 32, 'ï': 31, '2': 30, '·': 26, 'Ê': 24, '6': 23, '7': 23, 'Ô': 19, '9': 19, 'È': 11, 'k': 10, '0': 10, '_': 8, 'Z': 7, 'Æ': 4, '[': 4, ']': 4, 'w': 3, 'K': 3, 'Y': 3, 'Ë': 2, '(': 2, ')': 2, 'Â': 2, 'Î': 1, 'W': 1})\n"
     ]
    }
   ],
   "source": [
    "import collections\n",
    "\n",
    "with open('data/hugo_contemplations.txt', 'r', encoding='utf-8') as f:\n",
    "    text = f.read()\n",
    "\n",
    "print(f'Number of characters in the file: {len(text)}')\n",
    "##  YOUR CODE HERE\n",
    "counter=collections.Counter(text)\n",
    "###\n",
    "\n",
    "print (f'Number of character in counter: {sum(counter.values())}')\n",
    "chars=counter.keys()\n",
    "print (f'{len(chars)} different characters')\n",
    "print (counter)\n"
   ]
  },
  {
   "cell_type": "code",
   "execution_count": 3,
   "id": "7610f748",
   "metadata": {},
   "outputs": [],
   "source": [
    "petit_msg=\"Bonjour tout le monde\"\n",
    "compteur_dict=collections.Counter(petit_msg)"
   ]
  },
  {
   "cell_type": "code",
   "execution_count": 4,
   "id": "c12a8806",
   "metadata": {},
   "outputs": [
    {
     "data": {
      "text/plain": [
       "dict_keys(['B', 'o', 'n', 'j', 'u', 'r', ' ', 't', 'l', 'e', 'm', 'd'])"
      ]
     },
     "execution_count": 4,
     "metadata": {},
     "output_type": "execute_result"
    }
   ],
   "source": [
    "compteur_dict.keys()"
   ]
  },
  {
   "cell_type": "markdown",
   "id": "d80b661f",
   "metadata": {},
   "source": [
    "### Encodage / décodage\n",
    "Afin de transformer le texte en vecteur pour le réseau de neurones, il faut encoder chaque caractère avec un entier. Les fonctions suivantes opérent l'encodage et le décodage des caractères :"
   ]
  },
  {
   "cell_type": "code",
   "execution_count": 4,
   "id": "8d9c974d",
   "metadata": {},
   "outputs": [],
   "source": [
    "# create a mapping from characters to integers\n",
    "stoi = { ch:i for i,ch in enumerate(chars) }\n",
    "itos = { i:ch for i,ch in enumerate(chars) }\n",
    "encode = lambda s: [stoi[c] for c in s] # encoder: transform a string into a list of integers\n",
    "decode = lambda l: ''.join([itos[i] for i in l]) # decoder: transform a list of integers into a string\n",
    "\n",
    "\n",
    "# test that your encoder/decoder is coherent\n",
    "testString = \"\\nDemain, dès l'aube\"\n",
    "assert decode(encode (testString)) ==  testString"
   ]
  },
  {
   "cell_type": "code",
   "execution_count": 17,
   "id": "738ac49c",
   "metadata": {},
   "outputs": [
    {
     "data": {
      "text/plain": [
       "True"
      ]
     },
     "execution_count": 17,
     "metadata": {},
     "output_type": "execute_result"
    }
   ],
   "source": [
    "decode(encode (testString))==testString"
   ]
  },
  {
   "cell_type": "markdown",
   "id": "bf2a633d",
   "metadata": {},
   "source": [
    "### Découpage Train/Validation\n",
    "\n",
    "L'objectif étant de prédire des poèmes, il ne faut pas mélanger les lignes aléatoirement. Il faut garder l'ordre des lignes dans le texte et uniquement prendre les premiers 90% pour entrainer et les 10% restants pour contrôler l'apprentissage. \n",
    "\n",
    "Questions :\n",
    "> * Découper en `train_data` (90%) et `val_data` (10%) en utilisant du slicing sur data."
   ]
  },
  {
   "cell_type": "code",
   "execution_count": 5,
   "id": "bf5b7420",
   "metadata": {},
   "outputs": [],
   "source": [
    "import torch\n",
    "# Train and validation splits\n",
    "data = torch.tensor(encode(text), dtype=torch.long)\n",
    "## YOUR CODE HERE\n",
    "data_size=data.shape[0]\n",
    "train_size=int(data_size*90/100)\n",
    "train_data=data[:train_size]\n",
    "test_data=data[train_size:]\n",
    "\n",
    "# first 90% will be train, rest val\n",
    "\n",
    "###"
   ]
  },
  {
   "cell_type": "code",
   "execution_count": 12,
   "id": "e3367de8",
   "metadata": {},
   "outputs": [
    {
     "data": {
      "text/plain": [
       "(torch.Tensor,\n",
       " torch.Size([285222]),\n",
       " 285222,\n",
       " tensor([ 1,  2,  3,  4,  5,  6,  7,  1,  8,  9,  0, 10,  7, 11]))"
      ]
     },
     "execution_count": 12,
     "metadata": {},
     "output_type": "execute_result"
    }
   ],
   "source": [
    "type(data),data.shape,data.shape[0],data[1:15]"
   ]
  },
  {
   "cell_type": "markdown",
   "id": "aa498280",
   "metadata": {},
   "source": [
    "### Contexte\n",
    "\n",
    "Le modèle de langue possède comme paramètre la taille maximale du contexte à considérer pour faire la prédiction du prochain caractère. Ce contexte est appelé `block_size`. Les données d'apprentissage sont donc des séquences de caractères consécutifs, issues de l'ensemble d'entraînenement tirées aléatoirement et de longueur `block_size`.\n",
    "\n",
    "Si le caractère de début de la séquence est `i`, la séquence de contexte est donc :\n",
    "``` x = data[i:i+block_size]```\n",
    "et la valeur à prédire à chaque position dans le contexte est le caractère suivant :\n",
    "```y = [data[i+1:i+block_size+1]```.\n",
    "\n"
   ]
  },
  {
   "cell_type": "code",
   "execution_count": 6,
   "id": "97a262bf",
   "metadata": {},
   "outputs": [
    {
     "name": "stdout",
     "output_type": "stream",
     "text": [
      "tensor([145612])\n",
      "context is > < target is >a<\n",
      "context is > a< target is >u<\n",
      "context is > au< target is > <\n",
      "context is > au < target is >t<\n",
      "context is > au t< target is >o<\n",
      "context is > au to< target is >i<\n",
      "context is > au toi< target is >t<\n",
      "context is > au toit< target is > <\n"
     ]
    }
   ],
   "source": [
    "block_size = 8\n",
    "\n",
    "i  = torch.randint(len(data) - block_size, (1,))\n",
    "print (i)\n",
    "x = train_data[i:i+block_size]\n",
    "y = train_data[i+1:i+1+block_size]\n",
    "\n",
    "for t in range(block_size):\n",
    "    context = x[:t+1]\n",
    "    target = y[t]\n",
    "    print (f'context is >{decode(context.tolist())}< target is >{decode([target.tolist()])}<')"
   ]
  },
  {
   "cell_type": "markdown",
   "id": "0de81464",
   "metadata": {},
   "source": [
    "### Définition des batchs\n",
    "\n",
    "Les batchs d'entrainement sont constitués de plusieurs séquences de caractères tirées aléatoirement dans `train_data`. Pour choisir aléatoirement une séquence à mettre dans le batch, il faut tirer aléatoirement un point de départ dans `train_data` et extraire les `block_size` caractères suivants. Lors du tirage du point de départ, faire attention à laisser suffisamment de caractères après le point de départ pour avoir une séquence de `block_size` caractères.\n",
    "\n",
    "Questions :\n",
    "> * Créer les batchs `x` en tirant `batch_size` séquences de longeur `block_size` à  partir d'un point `i` tiré aléatoirement. Empiler les exemples avec `torch.stack`.\n",
    "> * Créer les batchs `y` en ajoutant le caractère suivant la séquence `x`. Empiler les exemples avec `torch.stack`.\n",
    "\n",
    "\n"
   ]
  },
  {
   "cell_type": "code",
   "execution_count": 7,
   "id": "9be91965",
   "metadata": {},
   "outputs": [],
   "source": [
    "batch_size = 4\n",
    "torch.manual_seed(2023)\n",
    "# data loading\n",
    "def get_batch(split):\n",
    "    # generate a small batch of data of inputs x and targets y\n",
    "    data = train_data if split == 'train' else test_data\n",
    "    ## YOUR CODE HERE\n",
    "    # select batch_size starting points in the data, store them in a list called \n",
    "    n=len(data)-block_size\n",
    "    \n",
    "    starting_points=points = torch.randperm(n)[:batch_size]\n",
    "\n",
    "\n",
    "    # x is the sequence of integer starting at each straing point and of length block_size\n",
    "    x=torch.stack(tuple([train_data[i:i+block_size] for i in starting_points]),0)\n",
    "\n",
    "    # y is the character after each starting position\n",
    "    y=torch.stack(tuple([train_data[i+1:i+1+block_size] for i in starting_points]),0)\n",
    "\n",
    "    ### \n",
    "    # send data and target to device\n",
    "    #device = 'cuda'\n",
    "    #x, y = x.to(device), y.to(device)\n",
    "    return x, y"
   ]
  },
  {
   "cell_type": "code",
   "execution_count": 8,
   "id": "17142535",
   "metadata": {},
   "outputs": [],
   "source": [
    "x,y=get_batch(\"train\")"
   ]
  },
  {
   "cell_type": "code",
   "execution_count": 22,
   "id": "5cd770ca",
   "metadata": {},
   "outputs": [
    {
     "name": "stdout",
     "output_type": "stream",
     "text": [
      "tensor([[30, 29, 46, 35, 44, 43, 35, 53],\n",
      "        [51, 14, 35, 43, 38, 22, 50, 35],\n",
      "        [43, 29, 30, 29, 43, 38, 44, 35],\n",
      "        [14, 53, 20, 45, 30, 39, 44, 34]])\n",
      "\n",
      "\n",
      "tensor([[29, 46, 35, 44, 43, 35, 53, 21],\n",
      "        [14, 35, 43, 38, 22, 50, 35, 14],\n",
      "        [29, 30, 29, 43, 38, 44, 35, 14],\n",
      "        [53, 20, 45, 30, 39, 44, 34, 35]])\n"
     ]
    }
   ],
   "source": [
    "print(x)\n",
    "print(\"\\n\")\n",
    "print(y)"
   ]
  },
  {
   "cell_type": "code",
   "execution_count": 9,
   "id": "b0ddf0bb",
   "metadata": {},
   "outputs": [
    {
     "data": {
      "text/plain": [
       "([43, 14, 38, 39, 34, 55, 35, 43], array([43, 14, 38, 39, 34, 55, 35, 43]))"
      ]
     },
     "execution_count": 9,
     "metadata": {},
     "output_type": "execute_result"
    }
   ],
   "source": [
    "x_np=x.numpy()\n",
    "decode(list(x_np[2]))\n",
    "encode(decode(list(x_np[2]))),x_np[2]"
   ]
  },
  {
   "cell_type": "markdown",
   "id": "6507313b",
   "metadata": {},
   "source": [
    "### Premier modèle : un bigramme \n",
    "\n",
    "Le premier modèle que nous allons implémenter est un modèle bigramme. Il prédit le caractère suivant uniquement en fonction du caractère courant. Il est possible de stocker ce modèle dans une simple matrice : pour chaque caractère (en ligne), on stocke la distribution de probabilités sur l'ensemble des caractères suivants (en colonne). On peut donc le stocker dans une simple couche [`Embedding`](https://pytorch.org/docs/stable/generated/torch.nn.Embedding.html).\n",
    "\n",
    "Questions :\n",
    "> * Dans le constructeur, définir une couche Embedding de taille `vocab_size` par `vocab_size`.\n",
    "> * Dans forward, appliquer la couche d'embedding au batch de idx (`x`).\n",
    "> * Dans forward, définir la loss comme la `cross_entropy` entre la prédiction et target (`y`).\n",
    "\n"
   ]
  },
  {
   "cell_type": "code",
   "execution_count": 10,
   "id": "1614d28f",
   "metadata": {},
   "outputs": [],
   "source": [
    "import torch.nn as nn\n",
    "\n",
    "# use a gpu if we have one\n",
    "#device = 'cuda' if torch.cuda.is_available() else 'cpu'\n",
    "\n",
    "# Simple bigram model\n",
    "class BigramLanguageModel(nn.Module):\n",
    "\n",
    "    def __init__(self, vocab_size):\n",
    "        super().__init__()\n",
    "        # we use a simple vocab_size times vocab_size tensor to store the probabilities \n",
    "        # of each token given a single token as context in nn.Embedding\n",
    "        self.vocab_size = vocab_size\n",
    "        # YOUR CODE HERE\n",
    "        self.embedding_layer = nn.Embedding(vocab_size, vocab_size)\n",
    "        self.linear = nn.Linear(vocab_size, vocab_size)\n",
    "\n",
    "\n",
    "    def forward(self, idx, targets=None):\n",
    "        # idx and targets are both (Batch,Time) tensor of integers\n",
    "        # YOUR CODE HERE\n",
    "        idx = idx.long()\n",
    "\n",
    "        \n",
    "        embeddings = self.embedding_layer(idx)\n",
    "        #-----                           ----------------\n",
    "        logits = self.linear(embeddings)\n",
    "        log_probs = nn.functional.log_softmax(logits, dim=-1),nn.functional.log_softmax(logits, dim=-1)\n",
    "        \n",
    "        #---------------------------------------------------------------------------\n",
    "\n",
    "\n",
    "        # don't compute loss if we don't have targets\n",
    "        if targets is None:\n",
    "            loss = None\n",
    "        else:\n",
    "            # change the shape of the logits and target to match what is needed for CrossEntropyLoss\n",
    "            # https://pytorch.org/docs/stable/generated/torch.nn.CrossEntropyLoss.html\n",
    "            #Batch, Time, Channels = logits.shape\n",
    "            #logits = logits.view(Batch*Time, Channels)\n",
    "            #targets = targets.view(Batch*Time)\n",
    "            #-----------------------------------------------\n",
    "            log_probs = log_probs[0]\n",
    "\n",
    "            Batch, Time, Channels = log_probs.shape\n",
    "            log_probs = log_probs.view(Batch*Time, Channels)\n",
    "            targets = targets.view(Batch*Time)\n",
    "\n",
    "\n",
    "\n",
    "            #---------------------\n",
    "        \n",
    "            # negative log likelihood between prediction and target\n",
    "            # YOUR CODE HERE\n",
    "            loss = nn.CrossEntropyLoss()(log_probs, targets)\n",
    "\n",
    "\n",
    "        return log_probs, loss\n",
    "\n",
    "    def generate(self, idx, max_new_tokens):\n",
    "        # idx is (B, T) array of indices in the current context\n",
    "        for _ in range(max_new_tokens):\n",
    "            # get the predictions\n",
    "            logits, _ = self.forward(idx)\n",
    "            # focus only on the last time step\n",
    "            logits = logits[0]\n",
    "\n",
    "            logits = logits[:, -1, :] # becomes (B, C)\n",
    "            # apply softmax to get probabilities\n",
    "            probs = nn.functional.softmax(logits, dim=-1) # (B, C)\n",
    "            # sample from the distribution\n",
    "            idx_next = torch.multinomial(probs, num_samples=1) # (B, 1)\n",
    "            # append sampled index to the running sequence\n",
    "            idx = torch.cat((idx, idx_next), dim=1) # (B, T+1)\n",
    "        return idx\n",
    "\n",
    "vocab_size=len(chars)\n",
    "model = BigramLanguageModel(vocab_size)\n",
    "# send the model to device\n",
    "#m = model.to(device)\n"
   ]
  },
  {
   "cell_type": "code",
   "execution_count": 36,
   "id": "9d0dd469",
   "metadata": {},
   "outputs": [
    {
     "data": {
      "text/plain": [
       "__main__.BigramLanguageModel"
      ]
     },
     "execution_count": 36,
     "metadata": {},
     "output_type": "execute_result"
    }
   ],
   "source": [
    "type(model)"
   ]
  },
  {
   "cell_type": "markdown",
   "id": "f0e3cffb",
   "metadata": {},
   "source": [
    "#### Modèle avant entraînement\n",
    "Le modèle n'a pas encore été entrainé, il est juste initialisé, mais on peut calculer la loss sur un batch aléatoire. Les poids étant initialisés avec une distribution normale N(0,1) sur chaque dimension, la loss attendue après l'initialisation devrait être proche de `-ln(1/vocab_size)` (l'entropie est maximale)."
   ]
  },
  {
   "cell_type": "code",
   "execution_count": 11,
   "id": "62343cbc",
   "metadata": {},
   "outputs": [
    {
     "name": "stdout",
     "output_type": "stream",
     "text": [
      "torch.Size([32, 101])\n",
      "loss attendue 4.61512051684126\n",
      "loss calculée 5.065275192260742\n"
     ]
    }
   ],
   "source": [
    "import math\n",
    "xb, yb = get_batch('train')\n",
    "logits, loss = model.forward(xb, yb)\n",
    "print (logits.shape)\n",
    "print (f'loss attendue {-math.log(1.0/vocab_size)}')\n",
    "print (f'loss calculée {loss}')"
   ]
  },
  {
   "cell_type": "markdown",
   "id": "d0d44b50",
   "metadata": {},
   "source": [
    "Pour utiliser le modèle en prédiction, il faut lui fournir un premier caractère pour amorcer la séquence : c'est le prompt. Dans notre cas, on peut initialiser la génération avec le caractère de retour à la ligne pour débuter une nouvelle phrase.\n",
    "\n",
    "Questions :\n",
    "> * Créer un prompt avec un tenseur de taille (1,1) contenant l'entier correspondant au caractère `\\n`.\n",
    "> * Générer une séquence de caractères de taille 100 à partir de ce prompt avec les fonctions `m.generate` et `decode`.\n",
    "> * Comment est la phrase générée ?"
   ]
  },
  {
   "cell_type": "code",
   "execution_count": 12,
   "id": "320d3ead",
   "metadata": {},
   "outputs": [
    {
     "name": "stdout",
     "output_type": "stream",
     "text": [
      "[3]\n",
      "voila à quoi ressemble la phrase predicte \n",
      " \n",
      "t8kYgèaôû-»ROXRÈIç?bgsLKX0·9Tt6MËâkGVxZtt)ârêx2ÆkÆTRy06z·-Éik9RIëK PZqjPzNn0 ÂÊéêé6mYî)(4eq5_lnÔ2ôRD\n"
     ]
    }
   ],
   "source": [
    "print (encode(['\\n']))\n",
    "## YOUR CODE HERE\n",
    "prompt=torch.Tensor(encode(['\\n'])).reshape(1,1)\n",
    "generated_seq=model.generate(idx=prompt,max_new_tokens=100)\n",
    "list_generated_seq=list(np.array(list(generated_seq[0]),dtype='int'))\n",
    "decoded_generated_seq=decode(list_generated_seq)\n",
    "\n",
    "print(\"voila à quoi ressemble la phrase predicte\",\"\\n\",decoded_generated_seq)\n",
    "###"
   ]
  },
  {
   "cell_type": "markdown",
   "id": "3630d8c3",
   "metadata": {},
   "source": [
    "### Entrainement\n",
    "\n",
    "Pour l'entrainement, nous utilisons un optimiseur [AdamW](https://pytorch.org/docs/stable/generated/torch.optim.AdamW.html) avec un learning rate de 1e-3. Une itération d'apprentissage consiste en \n",
    "- générer un batch\n",
    "- appliquer le réseau de neurones (forward) et calculer la loss (`model(xb, yb)`)\n",
    "- calculer le gradient (après avoir remis à zero le gradient cumulé) (`loss.backward()`)\n",
    "- mettre à jour les paramètres (`optimizer.step()`)."
   ]
  },
  {
   "cell_type": "code",
   "execution_count": 13,
   "id": "05831b58",
   "metadata": {},
   "outputs": [
    {
     "name": "stdout",
     "output_type": "stream",
     "text": [
      "step 0: train loss 4.7608, val loss 4.7925\n",
      "step 10: train loss 4.5201, val loss 4.5879\n",
      "step 20: train loss 4.2946, val loss 4.3782\n",
      "step 30: train loss 4.2160, val loss 4.1515\n",
      "step 40: train loss 3.9994, val loss 4.0311\n",
      "step 50: train loss 3.8978, val loss 3.8757\n",
      "step 60: train loss 3.8245, val loss 3.7616\n",
      "step 70: train loss 3.6480, val loss 3.5745\n",
      "step 80: train loss 3.5264, val loss 3.5506\n",
      "step 90: train loss 3.5135, val loss 3.4485\n"
     ]
    }
   ],
   "source": [
    "max_iters = 100\n",
    "batch_size = 4\n",
    "eval_interval = 10\n",
    "learning_rate = 1e-3\n",
    "eval_iters = 20\n",
    "\n",
    "@torch.no_grad() # no gradient is computed here\n",
    "def estimate_loss():\n",
    "    \"\"\" Estimate the loss on eval_iters batch of train and val sets.\"\"\"\n",
    "    out = {}\n",
    "    model.eval()\n",
    "    for split in ['train', 'val']:\n",
    "        losses = torch.zeros(eval_iters)\n",
    "        for k in range(eval_iters):\n",
    "            X, Y = get_batch(split)\n",
    "            logits, loss = model(X, Y)\n",
    "            losses[k] = loss.item()\n",
    "        out[split] = losses.mean()\n",
    "    model.train()\n",
    "    return out\n",
    "\n",
    "# re-create the model\n",
    "model = BigramLanguageModel(vocab_size)\n",
    "#m = model.to(device)\n",
    "m=model\n",
    "\n",
    "# create a PyTorch optimizer\n",
    "optimizer = torch.optim.AdamW(model.parameters(), lr=learning_rate)\n",
    "\n",
    "for iter in range(max_iters):\n",
    "\n",
    "    # every once in a while evaluate the loss on train and val sets\n",
    "    if iter % eval_interval == 0:\n",
    "        losses = estimate_loss()\n",
    "        print(f\"step {iter}: train loss {losses['train']:.4f}, val loss {losses['val']:.4f}\")\n",
    "\n",
    "    # sample a batch of data\n",
    "    xb, yb = get_batch('train')\n",
    "\n",
    "    # evaluate the loss\n",
    "    logits, loss = m(xb, yb)\n",
    "    optimizer.zero_grad(set_to_none=True)\n",
    "    loss.backward()\n",
    "    optimizer.step()\n"
   ]
  },
  {
   "cell_type": "markdown",
   "id": "512395a0",
   "metadata": {},
   "source": [
    "Une fois le réseau entrainé pendant 100 itérations, on peut générer une séquence de caractères.\n",
    "\n",
    "Questions :\n",
    "> * Quel est l'effet de l'entraînement ?\n",
    "> * Augmenter le nombre d'itérations à 1000 puis à 10,000, noter la loss obtenue et la phrase générée. Qu'observez-vous ?"
   ]
  },
  {
   "cell_type": "code",
   "execution_count": 14,
   "id": "4071b998",
   "metadata": {},
   "outputs": [
    {
     "name": "stdout",
     "output_type": "stream",
     "text": [
      "\n",
      "PômÈF[»lomô.EchîÊ-cû(9uag3Ck7ùîëJà»»F7UYWvU?es\n",
      "N9jiUG0!?yixZX[ç4Fê?w]ja udAord\n",
      "Vxbe s3cannt  lù viÔW\n"
     ]
    }
   ],
   "source": [
    "idx = torch.ones((1,1), dtype=torch.long)*3\n",
    "print (decode(m.generate(idx, max_new_tokens=100)[0].tolist()))"
   ]
  },
  {
   "cell_type": "markdown",
   "id": "5dfd33b1",
   "metadata": {},
   "source": [
    "## Single Head Attention\n",
    "\n",
    "Nous allons maintenant implémenter le mécanisme de base de l'attention. Pour chaque couple de mots de la séquence, ce mécanisme combine Q une *query* (l'information recherchée), K une *key* (l'information obtenue) et calcule  V une *value*, un vecteur de résultat. \n",
    "\n",
    "![single head attention](images/single_head_attention.png)\n",
    "\n",
    "### Masquage\n",
    "Cependant, comme nous utilisons le modèle pour générer des séquences, on ne doit pas utiliser les caractères situés après le caractère courant, car ce sont justement ces caractères que l'on cherche à prédire lors de l'apprentissage : *le futur n'est pas utilisé pour prédire (le futur).* \n",
    "\n",
    "On va donc intégrer une matrice de masquage dans le processus. Cette matrice indique que pour le premier caractère de la séquence, on ne peux utiliser que ce caractère pour prédire (pas de contexte). Pour le second caractère, on peut utiliser le premier caractère et le second. Pour le troisième caractère, on peut utiliser le premier, le second et le troisième et ainsi de suite. Cette matrice est donc une matrice triangulaire inférieure. Cette matrice est normalisée par ligne (les lignes somment à 1)."
   ]
  },
  {
   "cell_type": "code",
   "execution_count": 15,
   "id": "d15fbb1d",
   "metadata": {},
   "outputs": [
    {
     "name": "stdout",
     "output_type": "stream",
     "text": [
      "tensor([[1.0000, 0.0000, 0.0000, 0.0000, 0.0000, 0.0000, 0.0000, 0.0000],\n",
      "        [0.5000, 0.5000, 0.0000, 0.0000, 0.0000, 0.0000, 0.0000, 0.0000],\n",
      "        [0.3333, 0.3333, 0.3333, 0.0000, 0.0000, 0.0000, 0.0000, 0.0000],\n",
      "        [0.2500, 0.2500, 0.2500, 0.2500, 0.0000, 0.0000, 0.0000, 0.0000],\n",
      "        [0.2000, 0.2000, 0.2000, 0.2000, 0.2000, 0.0000, 0.0000, 0.0000],\n",
      "        [0.1667, 0.1667, 0.1667, 0.1667, 0.1667, 0.1667, 0.0000, 0.0000],\n",
      "        [0.1429, 0.1429, 0.1429, 0.1429, 0.1429, 0.1429, 0.1429, 0.0000],\n",
      "        [0.1250, 0.1250, 0.1250, 0.1250, 0.1250, 0.1250, 0.1250, 0.1250]])\n"
     ]
    }
   ],
   "source": [
    "T = 8\n",
    "\n",
    "# first version of the contraints with matrix multiplication\n",
    "# create a lower triangular matrix\n",
    "weights0 = torch.tril(torch.ones(T,T))\n",
    "# normalize each row\n",
    "weights0 = weights0 / weights0.sum(1, keepdim=True) \n",
    "print (weights0)"
   ]
  },
  {
   "cell_type": "markdown",
   "id": "1f1eb4a7",
   "metadata": {},
   "source": [
    "La couche [`softmax`](https://pytorch.org/docs/stable/generated/torch.nn.functional.softmax.html) est une autre manière de réaliser la normalisation :\n",
    "\n",
    "Question :\n",
    "> * Vérifier qu'on obtient bien la même matrice."
   ]
  },
  {
   "cell_type": "code",
   "execution_count": 16,
   "id": "75455f0e",
   "metadata": {},
   "outputs": [
    {
     "name": "stdout",
     "output_type": "stream",
     "text": [
      "tensor([[1.0000, 0.0000, 0.0000, 0.0000, 0.0000, 0.0000, 0.0000, 0.0000],\n",
      "        [0.5000, 0.5000, 0.0000, 0.0000, 0.0000, 0.0000, 0.0000, 0.0000],\n",
      "        [0.3333, 0.3333, 0.3333, 0.0000, 0.0000, 0.0000, 0.0000, 0.0000],\n",
      "        [0.2500, 0.2500, 0.2500, 0.2500, 0.0000, 0.0000, 0.0000, 0.0000],\n",
      "        [0.2000, 0.2000, 0.2000, 0.2000, 0.2000, 0.0000, 0.0000, 0.0000],\n",
      "        [0.1667, 0.1667, 0.1667, 0.1667, 0.1667, 0.1667, 0.0000, 0.0000],\n",
      "        [0.1429, 0.1429, 0.1429, 0.1429, 0.1429, 0.1429, 0.1429, 0.0000],\n",
      "        [0.1250, 0.1250, 0.1250, 0.1250, 0.1250, 0.1250, 0.1250, 0.1250]])\n"
     ]
    }
   ],
   "source": [
    "tril = torch.tril(torch.ones(T,T))\n",
    "weights = torch.tril(torch.ones(T,T))\n",
    "weights = weights.masked_fill(tril== 0, float('-inf'))\n",
    "weights = nn.functional.softmax(weights, dim=-1)\n",
    "print (weights)"
   ]
  },
  {
   "cell_type": "code",
   "execution_count": 91,
   "id": "58d6bb29",
   "metadata": {},
   "outputs": [
    {
     "data": {
      "text/plain": [
       "True"
      ]
     },
     "execution_count": 91,
     "metadata": {},
     "output_type": "execute_result"
    }
   ],
   "source": [
    "(weights.numpy()==weights0.numpy()).sum()==weights.shape[0]*weights.shape[1]"
   ]
  },
  {
   "cell_type": "markdown",
   "id": "30f76c8b",
   "metadata": {},
   "source": [
    "### Implémentation\n",
    "\n",
    "Nous pouvons maintenant implémenter la couche d'attention :\n",
    "\n",
    "![attention_formula](images/attention_formula.png)"
   ]
  },
  {
   "cell_type": "markdown",
   "id": "02681533",
   "metadata": {},
   "source": [
    "Questions :\n",
    "\n",
    "> * Créer les couches key, query et value comme des couches linéaires de dimension `C` x `head_size`.\n",
    "> * Appliquer les couches à `x`.\n",
    "> * `weights = query x key` (transposer les deuxième et troisième dimensions de key pour pouvoir faire le produit).\n",
    "> * Appliquer le facteur de normalisation.\n",
    "> * Appliquer le masque triangulaire et la softmax à `weights`.\n",
    "> * Appliquer value à `x`.\n",
    "> * Le résultat `out` est la multiplication de `weights` par `value(x)`.\n"
   ]
  },
  {
   "cell_type": "raw",
   "id": "ed36c563",
   "metadata": {},
   "source": [
    "q.shape,k.shape\n",
    "k_t=torch.transpose(k,1,2)\n",
    "print(q.shape,k.shape,k_t.shape)\n",
    "a=q@k_t\n",
    "a.shape\n"
   ]
  },
  {
   "cell_type": "code",
   "execution_count": 18,
   "id": "129fe994",
   "metadata": {},
   "outputs": [
    {
     "data": {
      "text/plain": [
       "tensor([[-1.8262e-01,  2.8143e-01, -9.5965e-01, -6.7524e-01,  1.4250e-01,\n",
       "         -3.3926e-01,  1.4913e-01, -9.0075e-01,  5.0410e-01,  2.0885e-01,\n",
       "         -7.2768e-02, -4.4058e-01, -7.4483e-03, -6.8030e-01, -1.1095e+00,\n",
       "         -1.7671e-01],\n",
       "        [ 9.4657e-04, -2.1648e-01, -3.5870e-01,  6.3169e-02, -1.5064e-01,\n",
       "         -7.0589e-03,  3.2341e-01, -7.6347e-01, -3.9274e-02,  5.0347e-01,\n",
       "         -4.6361e-01, -5.5028e-01, -5.9986e-01, -3.7587e-01, -9.1065e-01,\n",
       "          2.4285e-02],\n",
       "        [-1.2395e-01, -3.5153e-01, -5.7789e-01,  2.7425e-01, -4.2474e-01,\n",
       "          9.0562e-02,  1.0888e-01, -2.6354e-01, -1.8336e-01,  4.7597e-01,\n",
       "          1.9135e-01,  3.3756e-01, -5.9226e-01, -8.2034e-02, -5.3525e-01,\n",
       "         -1.2761e-01],\n",
       "        [ 1.0252e+00, -1.5595e+00, -3.6486e-01,  1.1320e-01,  7.1510e-01,\n",
       "         -4.6707e-01, -2.0542e-02,  3.9382e-01,  6.6322e-01,  2.8201e-01,\n",
       "          6.9537e-01, -4.9074e-01, -6.1460e-01, -1.1143e-01, -2.8524e-01,\n",
       "         -5.8009e-01],\n",
       "        [-9.8409e-02, -7.8089e-02, -4.8416e-01, -1.4817e-02,  4.5850e-02,\n",
       "         -6.4738e-04,  2.2711e-01, -3.9442e-01,  2.1618e-02,  2.7768e-01,\n",
       "         -2.8904e-01, -5.3624e-01, -1.5337e-01, -7.2844e-01, -7.0309e-01,\n",
       "         -5.8805e-02],\n",
       "        [-8.4112e-02, -1.2644e-01, -4.4189e-01,  4.0028e-02,  3.9722e-02,\n",
       "          1.7717e-02,  1.7941e-01, -2.7969e-01, -7.9240e-02,  2.1485e-01,\n",
       "         -3.1629e-01, -5.2115e-01, -7.9170e-02, -7.2888e-01, -6.2953e-01,\n",
       "         -1.9987e-03],\n",
       "        [ 6.5760e-01, -8.4947e-01,  1.1799e-02,  3.8113e-01,  5.6037e-02,\n",
       "         -1.2044e-01, -1.5262e-01,  2.8579e-01, -3.0352e-01, -7.9567e-02,\n",
       "         -9.3329e-02, -1.9044e-01, -6.3867e-02, -1.9265e-01, -1.9330e-01,\n",
       "          3.8417e-02],\n",
       "        [ 3.6947e-01, -3.1075e-01, -1.2314e-01,  1.9664e-01, -3.2241e-01,\n",
       "         -1.5973e-01, -1.3376e-02, -2.0011e-02, -1.8645e-01,  9.9105e-02,\n",
       "          1.4530e-02,  1.0342e-01, -2.4787e-01, -2.4504e-01, -3.4811e-01,\n",
       "         -5.5689e-02]], grad_fn=<SelectBackward0>)"
      ]
     },
     "execution_count": 18,
     "metadata": {},
     "output_type": "execute_result"
    }
   ],
   "source": [
    "head_size = 16\n",
    "B, T, C = 4, 8, 32\n",
    "x = torch.randn(B, T, C)\n",
    "## YOUR CODE HERE\n",
    "# define the Key layer  \n",
    "key = nn.Linear(C,head_size)\n",
    "# define the Query layer\n",
    "query = nn.Linear(C,head_size)\n",
    "# define the Value layer\n",
    "value =  nn.Linear(C,head_size)\n",
    "# apply each layer to the input\n",
    "k =key(x)  # (B, T, head_size)\n",
    "q =query(x)  # (B, T, head_size)\n",
    "v =value(x) # (B, T, head_size)\n",
    "# compute the normalize product between Q and K \n",
    "k_t=torch.transpose(k, 1, 2)\n",
    "weights =q@k_t   # (B, T, head_size) @ (B, 16, head_size) -> (B, T, T)\n",
    "# apply the mask (lower triangular matrix)\n",
    "weights = weights.masked_fill(tril== 0, float('-inf'))\n",
    "# apply the softmax\n",
    "weights =  nn.functional.softmax(weights, dim=-1)\n",
    "###\n",
    "out  = weights @ value(x) # (B, T, head_size)\n",
    "\n",
    "# print the result\n",
    "weights[0]\n",
    "out[0]"
   ]
  },
  {
   "cell_type": "code",
   "execution_count": 99,
   "id": "84213596",
   "metadata": {},
   "outputs": [
    {
     "data": {
      "text/plain": [
       "(torch.Size([4, 8, 16]), torch.Size([8, 4, 16]))"
      ]
     },
     "execution_count": 99,
     "metadata": {},
     "output_type": "execute_result"
    }
   ],
   "source": [
    "v.shape,torch.transpose(v, 0, 1).shape"
   ]
  },
  {
   "cell_type": "code",
   "execution_count": 19,
   "id": "863f6364",
   "metadata": {},
   "outputs": [
    {
     "name": "stdout",
     "output_type": "stream",
     "text": [
      "0.009989 M parameters\n"
     ]
    },
    {
     "name": "stdout",
     "output_type": "stream",
     "text": [
      "step 0: train loss 4.7054, val loss 4.6731\n",
      "step 500: train loss 2.7430, val loss 2.8467\n",
      "step 1000: train loss 2.4996, val loss 2.5927\n",
      "step 1500: train loss 2.4571, val loss 2.5604\n",
      "step 2000: train loss 2.4131, val loss 2.5589\n",
      "step 2500: train loss 2.3903, val loss 2.5651\n",
      "step 3000: train loss 2.3752, val loss 2.5359\n",
      "step 3500: train loss 2.3536, val loss 2.5113\n",
      "step 4000: train loss 2.3521, val loss 2.4266\n",
      "step 4500: train loss 2.3412, val loss 2.4794\n",
      "step 4999: train loss 2.3423, val loss 2.4739\n",
      "\n",
      "Arsure!\n",
      "Qu'é, 4isoncoireyes, à cerice l,\n",
      "Vous an;\n",
      "Sinle; me ivur D''e,\n",
      " Quomen tran duite\n",
      "L'e,\n",
      "Sand ux évetuns qu'ét-istux curiquies!\n",
      "Dosour'ens, orêmes s;\n",
      "Uz t mantorimau'ins,\n",
      "L'iet, lau du he  episens  pire s.\n",
      "\n",
      "\n",
      " S'ininetrosupitrane t les reu;\n",
      "  jime; tandez, blabarit t-ni aitére jer;\n",
      "Pau,\n",
      "   l'onuborboiflquir,\n",
      "Etrenrvoignessces t des!\n",
      "Let melitéess l'anseu meux de mouper de s seplus s,\n",
      "Donien  sounvordabinte pront: labre s lelareurspensplauetre,\n",
      "Me;\n",
      "Quane namitscutenvon que doyche Motre u Vos\n"
     ]
    }
   ],
   "source": [
    "import gpt_single_head"
   ]
  },
  {
   "cell_type": "markdown",
   "id": "db591771",
   "metadata": {},
   "source": [
    "Questions :\n",
    "\n",
    "> * Copier votre code dans `gpt_single_head.py` : la définition des couches dans le constructeur de la classe `Head` et les calculs dans la fonction `forward`.\n",
    "> * Faire un entrainement.\n",
    "> * Quelle loss en train et val obtenez vous ? Le texte vous parait-il meilleur ?\n"
   ]
  },
  {
   "cell_type": "markdown",
   "id": "c043812e",
   "metadata": {},
   "source": [
    "## Multi-head attention\n",
    "\n",
    "La *multi-head attention* est simplement le calcul en parallèle de plusieurs *single head attention*. Chacune des single head attention est concaténée pour créer la sortie de la multi-head attention. Dans la figure issue de l'article original, le nombre de *heads* dans le *multi-head* est `h`. Afin d'opérer des combinaisons pondérées sur la sortie de chacune des single head, une couche de calcul linéaire est ajoutée.\n",
    "\n",
    "![multi head attention](images/multi_head_attention.png)\n",
    "\n",
    "Le code ci-dessous crée un module de multi-head attention.\n",
    "Questions :\n",
    "> * Dans le constructeur, créer une liste contenant `num_heads` module `Head` en utilisant la fonction [ModuleList](https://pytorch.org/docs/stable/generated/torch.nn.ModuleList.html) de pytorch.\n",
    "> * Dans la fonction `forward`, appliquer chaque single head à l'input et concaténer le résultat en utilisant la fonction [cat](https://pytorch.org/docs/stable/generated/torch.cat.html) de pytorch."
   ]
  },
  {
   "cell_type": "code",
   "execution_count": 20,
   "id": "5fab8977",
   "metadata": {},
   "outputs": [],
   "source": [
    "class MultiHeadAttention(nn.Module):\n",
    "    \"\"\" multiple heads of self-attention in parallel \"\"\"\n",
    "\n",
    "    def __init__(self, num_heads, head_size):\n",
    "        super().__init__()\n",
    "        ## YOUR CODE HERE\n",
    "        ## list of num_heads modules of type Head\n",
    "        self.heads = nn.ModuleList([Head(head_size) for _ in range(num_heads)])\n",
    "        ###\n",
    "        \n",
    "    def forward(self, x):\n",
    "        ## YOUR CODE HERE\n",
    "        ## apply each head in self.heads to x and concat the results \n",
    "        out = torch.cat([h(x) for h in self.heads], dim=-1)\n",
    "\n",
    "        return out\n"
   ]
  },
  {
   "cell_type": "markdown",
   "id": "56a39989",
   "metadata": {},
   "source": [
    "Questions :\n",
    "> * Copier le fichier `gpt_single_head.py` en `gpt_multi_head.py`.\n",
    "> * Ajouter le module MultiHeadAttention dans `gpt_multi_head.py`.\n",
    "> * En tête de fichier, ajouter un paramètre  `n_head = 4`.\n",
    "> * Dans le module BigramLanguageModel, remplacer le module Head par un module MultiHeadAttention avec les paramètres `num_heads = n_head` et `head_size = n_embd // n_head` pour garder le même nombre de paramètres.\n",
    "> Relancer l'entrainement et noter le nombre de paramètres et les loss obtenues.\n",
    "\n",
    "0.009893 M parameters\n",
    "step 4999: train loss 2.1570, val loss 2.1802"
   ]
  },
  {
   "cell_type": "code",
   "execution_count": 24,
   "id": "59d0f4b3",
   "metadata": {},
   "outputs": [
    {
     "name": "stdout",
     "output_type": "stream",
     "text": [
      "0.009989 M parameters\n",
      "step 0: train loss 4.7054, val loss 4.6731\n",
      "step 500: train loss 2.7430, val loss 2.8467\n",
      "step 1000: train loss 2.4996, val loss 2.5927\n",
      "step 1500: train loss 2.4571, val loss 2.5604\n",
      "step 2000: train loss 2.4131, val loss 2.5589\n",
      "step 2500: train loss 2.3903, val loss 2.5651\n",
      "step 3000: train loss 2.3752, val loss 2.5359\n",
      "step 3500: train loss 2.3536, val loss 2.5113\n",
      "step 4000: train loss 2.3521, val loss 2.4266\n",
      "step 4500: train loss 2.3412, val loss 2.4794\n",
      "step 4999: train loss 2.3423, val loss 2.4739\n",
      "\n",
      "Arsure!\n",
      "Qu'é, 4isoncoireyes, à cerice l,\n",
      "Vous an;\n",
      "Sinle; me ivur D''e,\n",
      " Quomen tran duite\n",
      "L'e,\n",
      "Sand ux évetuns qu'ét-istux curiquies!\n",
      "Dosour'ens, orêmes s;\n",
      "Uz t mantorimau'ins,\n",
      "L'iet, lau du he  episens  pire s.\n",
      "\n",
      "\n",
      " S'ininetrosupitrane t les reu;\n",
      "  jime; tandez, blabarit t-ni aitére jer;\n",
      "Pau,\n",
      "   l'onuborboiflquir,\n",
      "Etrenrvoignessces t des!\n",
      "Let melitéess l'anseu meux de mouper de s seplus s,\n",
      "Donien  sounvordabinte pront: labre s lelareurspensplauetre,\n",
      "Me;\n",
      "Quane namitscutenvon que doyche Motre u Vos\n"
     ]
    }
   ],
   "source": [
    "#Your code here\n",
    " ## Je relance l'entrainement -mais cette fois le modele à multiHeadAttention\n",
    "import gpt_multi_head\n",
    "# Relance l'entrainement aprés l'ajout de la couche FeedForward\n",
    "\n",
    "model = gpt_multi_head.BigramLanguageModel()\n",
    "#m = model.to(device)\n",
    "m=model\n",
    "# print the number of parameters in the model\n",
    "print(sum(p.numel() for p in m.parameters())/1e6, 'M parameters')\n",
    "\n",
    "# create a PyTorch optimizer\n",
    "optimizer = torch.optim.AdamW(m.parameters(), lr=learning_rate)\n",
    "\n",
    "for iter in range(max_iters):\n",
    "\n",
    "    # every once in a while evaluate the loss on train and val sets\n",
    "    if iter % eval_interval == 0 or iter == max_iters - 1:\n",
    "        losses = estimate_loss()\n",
    "        print(f\"step {iter}: train loss {losses['train']:.4f}, val loss {losses['val']:.4f}\")\n",
    "\n",
    "    # sample a batch of data\n",
    "    xb, yb = get_batch('train')\n",
    "\n",
    "    # evaluate the loss\n",
    "    logits, loss = m(xb, yb)\n",
    "    optimizer.zero_grad(set_to_none=True)\n",
    "    loss.backward()\n",
    "    optimizer.step()"
   ]
  },
  {
   "cell_type": "markdown",
   "id": "333d3f27",
   "metadata": {},
   "source": [
    "## Ajout d'une couche de calcul FeedForward\n",
    "\n",
    "\n",
    "Après les couches d'attention qui collectent l'information dans la séquence, une couche de calcul est ajoutée pour combiner toutes les informations de la séquence. Cette couche est un simple Multi-Layer-Perceptron avec une couche cachée et une non linéarité de type [RELU](https://pytorch.org/docs/stable/generated/torch.nn.ReLU.html).\n",
    "![multi feedfoward](images/multi_ff.png)"
   ]
  },
  {
   "cell_type": "code",
   "execution_count": null,
   "id": "915f8148",
   "metadata": {},
   "outputs": [],
   "source": [
    "class FeedForward(nn.Module):\n",
    "    \"\"\" a simple MLP with RELU \"\"\"\n",
    "\n",
    "    def __init__(self, n_embd):\n",
    "        super().__init__()\n",
    "        self.net = nn.Sequential(\n",
    "            nn.Linear(n_embd, n_embd),\n",
    "            nn.ReLU(),\n",
    "        )\n",
    "\n",
    "    def forward(self, x):\n",
    "        return self.net(x)"
   ]
  },
  {
   "cell_type": "markdown",
   "id": "f0ca5ef7",
   "metadata": {},
   "source": [
    "Questions :\n",
    "> * Ajouter le module `FeedForward` dans votre fichier `gpt_multi_head.py`.\n",
    "> * Ajouter cette couche `FeedForward` après la *multi-head attention*.\n",
    "> * Relancer l'entrainement et noter le nombre de paramètres et les loss obtenues."
   ]
  },
  {
   "cell_type": "markdown",
   "id": "5942f7be",
   "metadata": {},
   "source": [
    "0.010949 M parameters\n",
    "step 4999: train loss 2.1290, val loss 2.1216"
   ]
  },
  {
   "cell_type": "code",
   "execution_count": 32,
   "id": "2c45ce2d",
   "metadata": {},
   "outputs": [
    {
     "name": "stdout",
     "output_type": "stream",
     "text": [
      "0.009989 M parameters\n",
      "step 0: train loss 4.6971, val loss 4.6478\n",
      "step 10: train loss 4.5634, val loss 4.5371\n",
      "step 20: train loss 4.4626, val loss 4.4290\n",
      "step 30: train loss 4.3077, val loss 4.3220\n",
      "step 40: train loss 4.1779, val loss 4.1354\n",
      "step 50: train loss 3.9442, val loss 3.9470\n",
      "step 60: train loss 3.6716, val loss 3.6776\n",
      "step 70: train loss 3.5308, val loss 3.5383\n",
      "step 80: train loss 3.3552, val loss 3.4909\n",
      "step 90: train loss 3.2579, val loss 3.3428\n",
      "step 99: train loss 3.2831, val loss 3.3238\n"
     ]
    }
   ],
   "source": [
    "# Relance l'entrainement aprés l'ajout de la couche FeedForward\n",
    "\n",
    "import gpt_multi_head\n",
    "model = gpt_multi_head.BigramLanguageModel()\n",
    "#m = model.to(device)\n",
    "m=model\n",
    "# print the number of parameters in the model\n",
    "print(sum(p.numel() for p in m.parameters())/1e6, 'M parameters')\n",
    "\n",
    "# create a PyTorch optimizer\n",
    "optimizer = torch.optim.AdamW(m.parameters(), lr=learning_rate)\n",
    "\n",
    "for iter in range(max_iters):\n",
    "\n",
    "    # every once in a while evaluate the loss on train and val sets\n",
    "    if iter % eval_interval == 0 or iter == max_iters - 1:\n",
    "        losses = estimate_loss()\n",
    "        print(f\"step {iter}: train loss {losses['train']:.4f}, val loss {losses['val']:.4f}\")\n",
    "\n",
    "    # sample a batch of data\n",
    "    xb, yb = get_batch('train')\n",
    "\n",
    "    # evaluate the loss\n",
    "    logits, loss = m(xb, yb)\n",
    "    optimizer.zero_grad(set_to_none=True)\n",
    "    loss.backward()\n",
    "    optimizer.step()"
   ]
  },
  {
   "cell_type": "markdown",
   "id": "bc16dfb3",
   "metadata": {},
   "source": [
    "## Empiler les blocs\n",
    "\n",
    "Le réseau construit jusqu'à présent n'est en fait qu'un bloc du réseau final. Il est maintenant possible d'empiler les blocs de *multi-head attention* pour créer un réseau profond. \n",
    "\n",
    "![multi feedfoward](images/multi_bloc.png)\n",
    "\n",
    "\n",
    "Le code suivant crée un bloc : "
   ]
  },
  {
   "cell_type": "code",
   "execution_count": null,
   "id": "5fbdecf5",
   "metadata": {},
   "outputs": [],
   "source": [
    "class Block(nn.Module):\n",
    "    \"\"\" A single bloc of multi-head attention \"\"\"\n",
    "\n",
    "    def __init__(self, n_embd, n_head):\n",
    "        super().__init__()\n",
    "        head_size = n_embd // n_head\n",
    "        self.sa = MultiHeadAttention(n_head, head_size)\n",
    "        self.ffwd = FeedForward(n_embd)\n",
    "\n",
    "    def forward(self, x):\n",
    "        x = self.sa(x)\n",
    "        x = self.ffwd(x)\n",
    "        return x"
   ]
  },
  {
   "cell_type": "markdown",
   "id": "3144fff7",
   "metadata": {},
   "source": [
    "Questions :\n",
    "> * Ajouter le module `Block` dans `gpt_multi_head.py`.\n",
    "> * Modifier le code de `BigramLanguageModel` pour ajouter 3 `Block(n_embd, n_head=4)` avec un container [Sequential](https://pytorch.org/docs/stable/generated/torch.nn.Sequential.html) à la place de `MultiHeadAttention`et `FeedForward`.\n",
    "> * Relancer l'entrainement et noter le nombre de paramètres et les loss obtenues.\n",
    "\n",
    "0.019205 M parameters\n",
    "step 4999: train loss 2.2080, val loss 2.2213"
   ]
  },
  {
   "cell_type": "code",
   "execution_count": 35,
   "id": "1b2b0e34",
   "metadata": {},
   "outputs": [
    {
     "name": "stdout",
     "output_type": "stream",
     "text": [
      "0.009989 M parameters\n",
      "step 0: train loss 4.7494, val loss 4.7594\n",
      "step 500: train loss 3.0354, val loss 3.1673\n",
      "step 1000: train loss 3.0427, val loss 2.9740\n",
      "step 1500: train loss 2.7739, val loss 2.7623\n",
      "step 2000: train loss 2.6491, val loss 2.7073\n",
      "step 2500: train loss 2.5015, val loss 2.6362\n",
      "step 3000: train loss 2.6021, val loss 2.4505\n",
      "step 3500: train loss 2.5978, val loss 2.5483\n",
      "step 4000: train loss 2.4463, val loss 2.5227\n",
      "step 4500: train loss 2.4515, val loss 2.4845\n",
      "step 4999: train loss 2.5389, val loss 2.5165\n"
     ]
    }
   ],
   "source": [
    "# Relance l'entrainement aprés l'ajout de la couche FeedForward\n",
    "\n",
    "import gpt_multi_head\n",
    "model = gpt_multi_head.BigramLanguageModel()\n",
    "#m = model.to(device)\n",
    "m=model\n",
    "max_iters=5000\n",
    "eval_interval=500\n",
    "\n",
    "# print the number of parameters in the model\n",
    "print(sum(p.numel() for p in m.parameters())/1e6, 'M parameters')\n",
    "\n",
    "# create a PyTorch optimizer\n",
    "optimizer = torch.optim.AdamW(m.parameters(), lr=learning_rate)\n",
    "\n",
    "for iter in range(max_iters):\n",
    "\n",
    "    # every once in a while evaluate the loss on train and val sets\n",
    "    if iter % eval_interval == 0 or iter == max_iters - 1:\n",
    "        losses = estimate_loss()\n",
    "        print(f\"step {iter}: train loss {losses['train']:.4f}, val loss {losses['val']:.4f}\")\n",
    "\n",
    "    # sample a batch of data\n",
    "    xb, yb = get_batch('train')\n",
    "\n",
    "    # evaluate the loss\n",
    "    logits, loss = m(xb, yb)\n",
    "    optimizer.zero_grad(set_to_none=True)\n",
    "    loss.backward()\n",
    "    optimizer.step()"
   ]
  },
  {
   "cell_type": "code",
   "execution_count": 36,
   "id": "0da8d81f",
   "metadata": {},
   "outputs": [
    {
     "data": {
      "text/plain": [
       "'/home/onyxia/work/nlp-lab-language-models'"
      ]
     },
     "execution_count": 36,
     "metadata": {},
     "output_type": "execute_result"
    }
   ],
   "source": [
    "working_directory"
   ]
  },
  {
   "cell_type": "markdown",
   "id": "be02d77a",
   "metadata": {},
   "source": [
    "## Amélioration de l'entraînement\n",
    "\n",
    "Si on veut continuer à augmenter la taille du réseau, il est nécessaire d'utiliser des couches permettant d'améliorer l'entraînement et ses capacités de généralisation (réduire le sur-apprentissage). Ces couches sont :\n",
    "- *skip connections* ou *residual connections*\n",
    "- les couches de normalisation\n",
    "- le dropout.\n",
    "\n",
    "\n",
    "![multi feedfoward](images/multi_skip_norm.png)\n",
    "\n",
    "\n",
    "Questions :\n",
    "> * Dans le module Block, ajouter une skip connection en ajoutant l'input dans chaque connexion :\n",
    "```\n",
    "        x = x + self.sa(self.ln1(x))\n",
    "        x = x + self.ffwd(self.ln2(x))\n",
    "```\n",
    "> * Dans le module Block, ajouter 2 couches de [LayerNorm](https://pytorch.org/docs/stable/generated/torch.nn.LayerNorm.html) de taille `n_embd` avant la couche de `Multi-Head attention` et avant la `FeedForward`.\n",
    "> * Après la série de 3 blocs, ajouter une couche de LayerNorm de taille `n_embd`.\n",
    "> * Définir une variable `dropout = 0.2` en début de fichier et ajouter une couche de [Dropout](https://pytorch.org/docs/stable/generated/torch.nn.Dropout.html) :\n",
    ">    * Après la couche RELU dans FeedForward\n",
    ">    * Après la couche de MultiHead dans `MultiHeadAttention`\n",
    ">    * Après la softmax dans la single head attention `Head`.\n",
    "> * Relancer l'entrainement et noter le nombre de paramètres et les loss obtenues.\n",
    "\n",
    "0.019653 M parameters"
   ]
  },
  {
   "cell_type": "markdown",
   "id": "d4733a17",
   "metadata": {},
   "source": [
    "## Conclusion\n",
    "\n",
    "Les principaux éléments de GPT2 sont en place, il faut maintenant faire passer le modèle à l'échelle et l'entraîner sur une base de données beaucoup plus grande. Pour comparaison, les paramètres de [GPT2](https://huggingface.co/transformers/v2.11.0/model_doc/gpt2.html) sont : \n",
    "\n",
    "* `vocab_size = 50257` : GPT2 modélise des tokens (subwords) alors que nous modélisons des caractères. Pour nous, `vocab_size = 100`.\n",
    "* `n_positions = 1024` : la taille maximale du contexte. Pour nous, c'est `block_size = 8`.\n",
    "* `n_embd = 768`:  la dimension des embeddings. Pour nous c'est `n_embd = 32`.\n",
    "* `n_layer = 12`: le nombre de block. Pour nous c'est 3.\n",
    "* `n_head = 12`: le nombre de multi-head attention. Pour nous c'est 4.\n",
    "\n",
    "Au total, GPT2 est composé de 1,500 millions de paramètres et a été entrainé sur 8M de pages web, soit 40 Gb de texte.\n",
    "\n",
    "\n",
    "```\n",
    "10.816613 M parameters\n",
    "step 0: train loss 4.7847, val loss 4.7701\n",
    "step 4999: train loss 0.2683, val loss 2.1161\n",
    "time: 31m47.910s   \n",
    "    \n",
    "Le pêcheur où l'homme en peu de Carevante\n",
    "Sa conter des chosses qu'en ses yoitn!\n",
    "\n",
    "Ils sont là-hauts parler à leurs ténèbres\n",
    "A ceux qu'on rêve aux oiseaux des cheveux,\n",
    "Et celus qu'on tourna jamais sous le front;\n",
    "Ils se disent tu mêle aux univers.\n",
    "J'ai vu Jean vu France, potte; petits contempler,\n",
    "Et petié calme au milibre et versait,\n",
    "M'éblouissant, emportant, écoute, ingorancessible,\n",
    "On meurt s'efferayait.....--Pas cont âme parle en Apparia!\n",
    "```"
   ]
  }
 ],
 "metadata": {
  "kernelspec": {
   "display_name": "lm_env",
   "language": "python",
   "name": "lm_env"
  },
  "language_info": {
   "codemirror_mode": {
    "name": "ipython",
    "version": 3
   },
   "file_extension": ".py",
   "mimetype": "text/x-python",
   "name": "python",
   "nbconvert_exporter": "python",
   "pygments_lexer": "ipython3",
   "version": "3.11.6"
  }
 },
 "nbformat": 4,
 "nbformat_minor": 5
}
